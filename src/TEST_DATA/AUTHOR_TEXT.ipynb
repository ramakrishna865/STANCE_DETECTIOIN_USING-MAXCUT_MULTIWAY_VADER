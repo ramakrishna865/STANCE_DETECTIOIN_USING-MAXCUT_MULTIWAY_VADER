{
  "nbformat": 4,
  "nbformat_minor": 0,
  "metadata": {
    "colab": {
      "provenance": []
    },
    "kernelspec": {
      "name": "python3",
      "display_name": "Python 3"
    },
    "language_info": {
      "name": "python"
    }
  },
  "cells": [
    {
      "cell_type": "code",
      "execution_count": 8,
      "metadata": {
        "colab": {
          "base_uri": "https://localhost:8080/"
        },
        "id": "1eo2jQ7v7API",
        "outputId": "22a348b3-a466-415d-92c1-fd61d5dc2c61"
      },
      "outputs": [
        {
          "output_type": "stream",
          "name": "stdout",
          "text": [
            "Clusters in input file:\n",
            "                                              cluster1  cluster2\n",
            "0                                                 1788     517.0\n",
            "1                                                   21     101.0\n",
            "2                                                  168     672.0\n",
            "3                                                 1068     270.0\n",
            "4                                                 1729      70.0\n",
            "..                                                 ...       ...\n",
            "678  \" i only just turned 12 and i mean come on eve...       NaN\n",
            "679  'if the woman does not want the child .give th...       NaN\n",
            "680  \" but I can\\\\'t think why you would choose to ...       0.0\n",
            "681  ' therefore lawmakers must err cautiously. As ...       NaN\n",
            "682  ' do you really think making it illegal is goi...       NaN\n",
            "\n",
            "[683 rows x 2 columns]\n",
            "Authors in extract file:\n",
            "0      1788\n",
            "1       517\n",
            "2        21\n",
            "3       101\n",
            "4       168\n",
            "       ... \n",
            "491    4227\n",
            "492    2815\n",
            "493    5643\n",
            "494    1023\n",
            "495    5705\n",
            "Name: Author ID, Length: 496, dtype: object\n"
          ]
        }
      ],
      "source": [
        "import pandas as pd\n",
        "\n",
        "def fun(input_file, extract_file):\n",
        "    read_input = pd.read_excel(input_file)\n",
        "    read_extract_input = pd.read_excel(extract_file)\n",
        "\n",
        "    appended_data = []\n",
        "\n",
        "    print(\"Clusters in input file:\")\n",
        "    print(read_input[['cluster1', 'cluster2']])\n",
        "\n",
        "    print(\"Authors in extract file:\")\n",
        "    print(read_extract_input['Author ID'])\n",
        "\n",
        "    # for i in range(len(read_input['cluster1'])):\n",
        "    #     if read_input['cluster1'][i] in read_extract_input['Author ID'].values:\n",
        "    #         filtered_data = read_extract_input.loc[read_extract_input['Author ID'] == read_input['cluster1'][i], ['Text', 'Sentiment Score','Positive Count','Negative Count','Avg Positive','Avg Negative','Total Sentiment Score','Positive Sentiment Score','Negative Sentiment Score']]\n",
        "    #         appended_data.append(filtered_data)\n",
        "\n",
        "    for j in range(len(read_input['cluster2'])):\n",
        "        if read_input['cluster2'][j] in read_extract_input['Author ID'].values:\n",
        "            filtered_data1 = read_extract_input.loc[read_extract_input['Author ID'] == read_input['cluster2'][j],['Text','Sentiment Score','Positive Count','Negative Count','Avg Positive','Avg Negative','Total Sentiment Score','Positive Sentiment Score','Negative Sentiment Score']]\n",
        "            appended_data.append(filtered_data1)\n",
        "\n",
        "    if appended_data:\n",
        "        appended_df = pd.concat(appended_data, ignore_index=True)\n",
        "        with pd.ExcelWriter(input_file, engine='openpyxl', mode='a', if_sheet_exists='replace') as writer:\n",
        "            appended_df.to_excel(writer, index=False, header=False, startrow=len(pd.read_excel(input_file)) + 1)\n",
        "\n",
        "fun('clusters.xlsx', 'TextDataWordnet_Sentiment_Score.xlsx')"
      ]
    },
    {
      "cell_type": "code",
      "source": [
        "import pandas as pd\n",
        "\n",
        "def add_extracted_data(input_file, extract_file):\n",
        "    read_input = pd.read_excel(input_file)\n",
        "    read_extract_input = pd.read_excel(extract_file)\n",
        "\n",
        "    for cluster2_value in read_input['cluster2']:\n",
        "        if cluster2_value in read_extract_input['Author ID'].values:\n",
        "            extracted_row = read_extract_input.loc[read_extract_input['Author ID'] == cluster2_value]\n",
        "            extracted_data = extracted_row[['Text', 'Sentiment Score', 'Positive Count', 'Negative Count',\n",
        "                                            'Avg Positive', 'Avg Negative', 'Total Sentiment Score',\n",
        "                                            'Positive Sentiment Score', 'Negative Sentiment Score']]\n",
        "\n",
        "            read_input.loc[read_input['cluster2'] == cluster2_value,\n",
        "                           ['Text', 'Sentiment Score', 'Positive Count', 'Negative Count',\n",
        "                            'Avg Positive', 'Avg Negative', 'Total Sentiment Score',\n",
        "                            'Positive Sentiment Score', 'Negative Sentiment Score']] = extracted_data.values[0]\n",
        "\n",
        "    read_input.to_excel(input_file, index=False)\n",
        "add_extracted_data('clusters.xlsx', 'TextDataWordnet_Sentiment_Score.xlsx')"
      ],
      "metadata": {
        "id": "XM4kGBjU-7aB"
      },
      "execution_count": 17,
      "outputs": []
    }
  ]
}